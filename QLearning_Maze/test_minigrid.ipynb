{
 "cells": [
  {
   "cell_type": "code",
   "execution_count": 6,
   "metadata": {},
   "outputs": [],
   "source": [
    "import gym\n",
    "import matplotlib.pyplot as plt\n",
    "from gym_minigrid.wrappers import * \t\t# pip install gym-minigrid\n",
    "\n",
    "%matplotlib inline"
   ]
  },
  {
   "cell_type": "markdown",
   "metadata": {},
   "source": [
    "# gym-MiniGrid Environment: Basics\n",
    "Let's learn about how the environment is structured. Overall, it follows the conventions of a typical `gym` environment."
   ]
  },
  {
   "cell_type": "code",
   "execution_count": 35,
   "metadata": {},
   "outputs": [],
   "source": [
    "env = gym.make('MiniGrid-FourRooms-v0')\n",
    "obs = env.reset()"
   ]
  },
  {
   "cell_type": "markdown",
   "metadata": {},
   "source": [
    "## Observation Space"
   ]
  },
  {
   "cell_type": "code",
   "execution_count": 23,
   "metadata": {},
   "outputs": [
    {
     "name": "stdout",
     "output_type": "stream",
     "text": [
      "dict_keys(['image', 'direction', 'mission'])\n",
      "(7, 7, 3)\n",
      "2\n",
      "Reach the goal\n"
     ]
    }
   ],
   "source": [
    "print(obs.keys())\n",
    "print(obs['image'].shape)\n",
    "print(obs['direction'])\n",
    "print(obs['mission'])"
   ]
  },
  {
   "cell_type": "markdown",
   "metadata": {},
   "source": [
    "Text representation of the environment is also available:"
   ]
  },
  {
   "cell_type": "code",
   "execution_count": 28,
   "metadata": {},
   "outputs": [
    {
     "name": "stdout",
     "output_type": "stream",
     "text": [
      "WGWGWGWGWGWGWGWGWGWGWGWGWGWGWGWGWGWGWG\n",
      "WG                WG                WG\n",
      "WG                WG            GG  WG\n",
      "WG                WG                WG\n",
      "WG                                  WG\n",
      "WG                WG                WG\n",
      "WG                WG                WG\n",
      "WG                WG                WG\n",
      "WG<<              WG                WG\n",
      "WGWGWG  WGWGWGWGWGWGWGWGWGWGWGWG  WGWG\n",
      "WG                WG                WG\n",
      "WG                WG                WG\n",
      "WG                WG                WG\n",
      "WG                WG                WG\n",
      "WG                                  WG\n",
      "WG                WG                WG\n",
      "WG                WG                WG\n",
      "WG                WG                WG\n",
      "WGWGWGWGWGWGWGWGWGWGWGWGWGWGWGWGWGWGWG\n"
     ]
    }
   ],
   "source": [
    "print(env)"
   ]
  },
  {
   "cell_type": "markdown",
   "metadata": {},
   "source": [
    "Each tile is encoded as a 3 dimensional tuple: (OBJECT_IDX, COLOR_IDX, STATE).\n",
    "\n",
    "OBJECT_TO_IDX and COLOR_TO_IDX mapping can be found in `gym_minigrid/minigrid.py`.\n",
    "\n",
    "    e.g. door STATE -> 0: open, 1: closed, 2: locked\n"
   ]
  },
  {
   "cell_type": "code",
   "execution_count": 40,
   "metadata": {},
   "outputs": [
    {
     "name": "stdout",
     "output_type": "stream",
     "text": [
      "[[[2 5 0]\n",
      "  [1 0 0]\n",
      "  [1 0 0]\n",
      "  [1 0 0]\n",
      "  [1 0 0]\n",
      "  [1 0 0]\n",
      "  [1 0 0]]\n",
      "\n",
      " [[2 5 0]\n",
      "  [1 0 0]\n",
      "  [1 0 0]\n",
      "  [1 0 0]\n",
      "  [8 1 0]\n",
      "  [1 0 0]\n",
      "  [1 0 0]]\n",
      "\n",
      " [[2 5 0]\n",
      "  [1 0 0]\n",
      "  [1 0 0]\n",
      "  [1 0 0]\n",
      "  [1 0 0]\n",
      "  [1 0 0]\n",
      "  [1 0 0]]\n",
      "\n",
      " [[2 5 0]\n",
      "  [1 0 0]\n",
      "  [1 0 0]\n",
      "  [1 0 0]\n",
      "  [1 0 0]\n",
      "  [1 0 0]\n",
      "  [1 0 0]]\n",
      "\n",
      " [[2 5 0]\n",
      "  [2 5 0]\n",
      "  [2 5 0]\n",
      "  [2 5 0]\n",
      "  [2 5 0]\n",
      "  [2 5 0]\n",
      "  [2 5 0]]\n",
      "\n",
      " [[0 0 0]\n",
      "  [0 0 0]\n",
      "  [0 0 0]\n",
      "  [0 0 0]\n",
      "  [0 0 0]\n",
      "  [0 0 0]\n",
      "  [0 0 0]]\n",
      "\n",
      " [[0 0 0]\n",
      "  [0 0 0]\n",
      "  [0 0 0]\n",
      "  [0 0 0]\n",
      "  [0 0 0]\n",
      "  [0 0 0]\n",
      "  [0 0 0]]]\n"
     ]
    }
   ],
   "source": [
    "print(obs['image'])\n"
   ]
  },
  {
   "cell_type": "markdown",
   "metadata": {},
   "source": [
    "## Action Space"
   ]
  },
  {
   "cell_type": "code",
   "execution_count": 24,
   "metadata": {},
   "outputs": [
    {
     "data": {
      "text/plain": [
       "7"
      ]
     },
     "execution_count": 24,
     "metadata": {},
     "output_type": "execute_result"
    }
   ],
   "source": [
    "env.action_space.n"
   ]
  },
  {
   "cell_type": "markdown",
   "metadata": {},
   "source": [
    "Actions in the basic environment:\n",
    "\n",
    "- Turn left\n",
    "- Turn right\n",
    "- Move forward\n",
    "- Pick up an object\n",
    "- Drop the object being carried\n",
    "- Toggle (open doors, interact with objects)\n",
    "- Done (task completed, optional)"
   ]
  },
  {
   "cell_type": "markdown",
   "metadata": {},
   "source": [
    "Let's randomly sample actions and see what happens."
   ]
  },
  {
   "cell_type": "code",
   "execution_count": 38,
   "metadata": {},
   "outputs": [
    {
     "data": {
      "image/png": "[encoded data removed]",
      "text/plain": [
       "<Figure size 432x288 with 1 Axes>"
      ]
     },
     "metadata": {
      "needs_background": "light"
     },
     "output_type": "display_data"
    }
   ],
   "source": [
    "from IPython import display\n",
    "\n",
    "done = False\n",
    "obs = env.reset()\n",
    "\n",
    "while not done:\n",
    "    action = env.action_space.sample()\n",
    "    obs, reward, done, info = env.step(action)\n",
    "    img = env.render('rgb_array')\n",
    "    plt.imshow(img)\n",
    "    display.display(plt.gcf())\n",
    "    display.clear_output(wait=True)"
   ]
  },
  {
   "cell_type": "markdown",
   "metadata": {},
   "source": [
    "# Setting Up Q-Learning\n",
    "Let's set up some class objects for doing Q-Learning in this environment. "
   ]
  },
  {
   "cell_type": "code",
   "execution_count": null,
   "metadata": {},
   "outputs": [],
   "source": []
  },
  {
   "cell_type": "markdown",
   "metadata": {},
   "source": []
  }
 ],
 "metadata": {
  "interpreter": {
   "hash": "f7382983aa2e8709ae61a8573d5ca6d8a875571c9bd59f8309dde262ff005400"
  },
  "kernelspec": {
   "display_name": "Python 3.8.10 ('StableBaselines3')",
   "language": "python",
   "name": "python3"
  },
  "language_info": {
   "codemirror_mode": {
    "name": "ipython",
    "version": 3
   },
   "file_extension": ".py",
   "mimetype": "text/x-python",
   "name": "python",
   "nbconvert_exporter": "python",
   "pygments_lexer": "ipython3",
   "version": "3.8.10"
  },
  "orig_nbformat": 4
 },
 "nbformat": 4,
 "nbformat_minor": 2
}
